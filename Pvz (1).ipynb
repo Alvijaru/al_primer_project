{
  "nbformat": 4,
  "nbformat_minor": 0,
  "metadata": {
    "colab": {
      "name": "Pvz.ipynb",
      "provenance": [],
      "collapsed_sections": []
    },
    "kernelspec": {
      "display_name": "Python 3",
      "language": "python",
      "name": "python3"
    },
    "language_info": {
      "codemirror_mode": {
        "name": "ipython",
        "version": 3
      },
      "file_extension": ".py",
      "mimetype": "text/x-python",
      "name": "python",
      "nbconvert_exporter": "python",
      "pygments_lexer": "ipython3",
      "version": "3.8.5"
    },
    "accelerator": "GPU"
  },
  "cells": [
    {
      "cell_type": "code",
      "metadata": {
        "id": "_MSE-12KyNq0"
      },
      "source": [
        "import os\n",
        "import time\n",
        "from datetime import datetime\n",
        "import numpy as np\n",
        "import pandas as pd\n",
        "from tensorflow.keras.callbacks import TensorBoard"
      ],
      "execution_count": null,
      "outputs": []
    },
    {
      "cell_type": "code",
      "metadata": {
        "id": "V5z0rINUyOxS",
        "colab": {
          "base_uri": "https://localhost:8080/"
        },
        "outputId": "63f1dcd8-1743-4fef-b88a-f3ece393f3d2"
      },
      "source": [
        "%load_ext tensorboard"
      ],
      "execution_count": null,
      "outputs": [
        {
          "output_type": "stream",
          "text": [
            "The tensorboard extension is already loaded. To reload it, use:\n",
            "  %reload_ext tensorboard\n"
          ],
          "name": "stdout"
        }
      ]
    },
    {
      "cell_type": "code",
      "metadata": {
        "id": "ANwka9tFyRe0"
      },
      "source": [
        "import tensorflow.keras as keras\n",
        "from tensorflow.keras.layers import Dense, Input, Flatten, Conv2D, BatchNormalization, Activation, Dropout, MaxPooling2D\n",
        "from tensorflow.keras.models import Sequential\n",
        "from tensorflow.keras.optimizers import Adam"
      ],
      "execution_count": null,
      "outputs": []
    },
    {
      "cell_type": "code",
      "metadata": {
        "id": "Otb6L4T9yTsO"
      },
      "source": [
        "from google.colab import files #čia tai galima tiesiog iškart į content folderį įsikelt\n",
        "uploaded = files.upload()"
      ],
      "execution_count": null,
      "outputs": []
    },
    {
      "cell_type": "code",
      "metadata": {
        "id": "r2HHCbxgyWZO",
        "colab": {
          "base_uri": "https://localhost:8080/"
        },
        "outputId": "39d15cc1-5e5c-447b-fd34-108bdb8067a5"
      },
      "source": [
        "cwd = os.getcwd() #parodo kas content folderyje\n",
        "print(cwd)\n",
        "os.listdir(os.getcwd())"
      ],
      "execution_count": null,
      "outputs": [
        {
          "output_type": "stream",
          "text": [
            "/content\n"
          ],
          "name": "stdout"
        },
        {
          "output_type": "execute_result",
          "data": {
            "text/plain": [
              "['.config', 'flatland_train.data', 'sample_data']"
            ]
          },
          "metadata": {
            "tags": []
          },
          "execution_count": 16
        }
      ]
    },
    {
      "cell_type": "code",
      "metadata": {
        "id": "5eIGY01ayZY4"
      },
      "source": [
        "import gzip\n",
        "import pickle\n",
        "\n",
        "X,y = pickle.load(gzip.open('/content/flatland_train.data','rb'))\n",
        "y[y != 0] -= 2\n",
        "X = X.reshape(X.shape[0], 50, 50, 1) / 255.0\n",
        "#X = X / 255. su DNN"
      ],
      "execution_count": null,
      "outputs": []
    },
    {
      "cell_type": "code",
      "metadata": {
        "id": "uPMSp2xoypEl",
        "colab": {
          "base_uri": "https://localhost:8080/"
        },
        "outputId": "82a07803-0fdf-4a92-8ade-52729c70cbfa"
      },
      "source": [
        "#PVZ modelio, nukopinu nuo destytojo\n",
        "NAME = \"fl\".format(int(time.time()))\n",
        "#print(NAME)\n",
        "model = keras.models.Sequential()\n",
        "model.add(keras.layers.Conv2D(32, kernel_size=(3, 3), activation='relu', input_shape=[50, 50, 1]))  #cia yra is CNN paskaitos, atkreipk demesi, vietoj 28 yra 50\n",
        "model.add(keras.layers.Conv2D(32, kernel_size=(3, 3), activation='relu'))                           # nes paveiksliuko dydis 50x50 \n",
        "model.add(Flatten())\n",
        "model.add(keras.layers.Dense(100, activation=\"relu\"))\n",
        "model.add(keras.layers.Dense(5, activation=\"softmax\")) #cia butinai 5 stovi nes turim 5 figuras, parasyta destytojo pusl kokios jos\n",
        "model.compile(loss=\"sparse_categorical_crossentropy\",\n",
        "              optimizer=\"sgd\",\n",
        "              metrics=[\"accuracy\"])\n",
        "model.summary()"
      ],
      "execution_count": null,
      "outputs": [
        {
          "output_type": "stream",
          "text": [
            "Model: \"sequential\"\n",
            "_________________________________________________________________\n",
            "Layer (type)                 Output Shape              Param #   \n",
            "=================================================================\n",
            "conv2d (Conv2D)              (None, 48, 48, 32)        320       \n",
            "_________________________________________________________________\n",
            "conv2d_1 (Conv2D)            (None, 46, 46, 32)        9248      \n",
            "_________________________________________________________________\n",
            "flatten (Flatten)            (None, 67712)             0         \n",
            "_________________________________________________________________\n",
            "dense (Dense)                (None, 100)               6771300   \n",
            "_________________________________________________________________\n",
            "dense_1 (Dense)              (None, 5)                 505       \n",
            "=================================================================\n",
            "Total params: 6,781,373\n",
            "Trainable params: 6,781,373\n",
            "Non-trainable params: 0\n",
            "_________________________________________________________________\n"
          ],
          "name": "stdout"
        }
      ]
    },
    {
      "cell_type": "code",
      "metadata": {
        "id": "n3ZFBrfjypHR",
        "colab": {
          "base_uri": "https://localhost:8080/"
        },
        "outputId": "82e6e7ce-f54d-4ce6-855f-99720b31f985"
      },
      "source": [
        "loss = model.fit(X, y, epochs=10, validation_split=0.2)  #treniruojam"
      ],
      "execution_count": null,
      "outputs": [
        {
          "output_type": "stream",
          "text": [
            "Epoch 1/10\n",
            "250/250 [==============================] - 2s 6ms/step - loss: 1.4491 - accuracy: 0.3632 - val_loss: 1.3505 - val_accuracy: 0.4040\n",
            "Epoch 2/10\n",
            "250/250 [==============================] - 1s 5ms/step - loss: 1.3390 - accuracy: 0.4039 - val_loss: 1.3392 - val_accuracy: 0.3955\n",
            "Epoch 3/10\n",
            "250/250 [==============================] - 1s 6ms/step - loss: 1.3039 - accuracy: 0.4196 - val_loss: 1.3232 - val_accuracy: 0.4185\n",
            "Epoch 4/10\n",
            "250/250 [==============================] - 1s 6ms/step - loss: 1.2804 - accuracy: 0.4333 - val_loss: 1.3353 - val_accuracy: 0.4185\n",
            "Epoch 5/10\n",
            "250/250 [==============================] - 1s 6ms/step - loss: 1.2598 - accuracy: 0.4401 - val_loss: 1.3431 - val_accuracy: 0.3960\n",
            "Epoch 6/10\n",
            "250/250 [==============================] - 1s 6ms/step - loss: 1.2397 - accuracy: 0.4545 - val_loss: 1.3009 - val_accuracy: 0.4140\n",
            "Epoch 7/10\n",
            "250/250 [==============================] - 1s 6ms/step - loss: 1.2063 - accuracy: 0.4754 - val_loss: 1.2439 - val_accuracy: 0.4500\n",
            "Epoch 8/10\n",
            "250/250 [==============================] - 1s 6ms/step - loss: 1.1762 - accuracy: 0.4870 - val_loss: 1.2626 - val_accuracy: 0.4490\n",
            "Epoch 9/10\n",
            "250/250 [==============================] - 1s 6ms/step - loss: 1.1432 - accuracy: 0.5049 - val_loss: 1.2098 - val_accuracy: 0.4635\n",
            "Epoch 10/10\n",
            "250/250 [==============================] - 1s 6ms/step - loss: 1.0953 - accuracy: 0.5312 - val_loss: 1.1515 - val_accuracy: 0.4895\n"
          ],
          "name": "stdout"
        }
      ]
    },
    {
      "cell_type": "code",
      "metadata": {
        "id": "QGwa_W7Wz4NG"
      },
      "source": [
        "model.save('model.h5')   #taip issaugom modeli, vietoj model gali but kitas pav"
      ],
      "execution_count": null,
      "outputs": []
    },
    {
      "cell_type": "code",
      "metadata": {
        "id": "-UjTLF8V0LDy",
        "colab": {
          "base_uri": "https://localhost:8080/",
          "height": 17
        },
        "outputId": "5a96e693-88cd-4cc7-cb27-31bc03c3b126"
      },
      "source": [
        "from google.colab import files\n",
        "files.download('model.h5') "
      ],
      "execution_count": null,
      "outputs": [
        {
          "output_type": "display_data",
          "data": {
            "application/javascript": [
              "\n",
              "    async function download(id, filename, size) {\n",
              "      if (!google.colab.kernel.accessAllowed) {\n",
              "        return;\n",
              "      }\n",
              "      const div = document.createElement('div');\n",
              "      const label = document.createElement('label');\n",
              "      label.textContent = `Downloading \"${filename}\": `;\n",
              "      div.appendChild(label);\n",
              "      const progress = document.createElement('progress');\n",
              "      progress.max = size;\n",
              "      div.appendChild(progress);\n",
              "      document.body.appendChild(div);\n",
              "\n",
              "      const buffers = [];\n",
              "      let downloaded = 0;\n",
              "\n",
              "      const channel = await google.colab.kernel.comms.open(id);\n",
              "      // Send a message to notify the kernel that we're ready.\n",
              "      channel.send({})\n",
              "\n",
              "      for await (const message of channel.messages) {\n",
              "        // Send a message to notify the kernel that we're ready.\n",
              "        channel.send({})\n",
              "        if (message.buffers) {\n",
              "          for (const buffer of message.buffers) {\n",
              "            buffers.push(buffer);\n",
              "            downloaded += buffer.byteLength;\n",
              "            progress.value = downloaded;\n",
              "          }\n",
              "        }\n",
              "      }\n",
              "      const blob = new Blob(buffers, {type: 'application/binary'});\n",
              "      const a = document.createElement('a');\n",
              "      a.href = window.URL.createObjectURL(blob);\n",
              "      a.download = filename;\n",
              "      div.appendChild(a);\n",
              "      a.click();\n",
              "      div.remove();\n",
              "    }\n",
              "  "
            ],
            "text/plain": [
              "<IPython.core.display.Javascript object>"
            ]
          },
          "metadata": {
            "tags": []
          }
        },
        {
          "output_type": "display_data",
          "data": {
            "application/javascript": [
              "download(\"download_51c03f9e-8ceb-4705-a81b-0d5ae27eb0fd\", \"model.h5\", 27147048)"
            ],
            "text/plain": [
              "<IPython.core.display.Javascript object>"
            ]
          },
          "metadata": {
            "tags": []
          }
        }
      ]
    },
    {
      "cell_type": "code",
      "metadata": {
        "id": "wptY7R9g0T0f",
        "colab": {
          "base_uri": "https://localhost:8080/",
          "height": 131
        },
        "outputId": "16514d93-48c2-41bb-c5fb-8c3bcda606e1"
      },
      "source": [
        "#sita paleidi ir turi rodyt koks tikslumas ant train set'o bet per google colaba su CNN man asmeniskai neveikia, truksta atminties GPU\n",
        "def evaluate(/content/flatland_train.data, model):\n",
        "    X, y = pickle.load(gzip.open('flatland_train.data', 'rb'))\n",
        "    y[y != 0] -= 2\n",
        "    X = X / 255.\n",
        "    acc = np.mean(model(X).numpy().argmax(axis=1) == y)\n",
        "    return acc\n",
        "\n",
        "model = keras.models.load_model('model.h5')\n",
        "evaluate('flatland_train.data', model)"
      ],
      "execution_count": null,
      "outputs": [
        {
          "output_type": "error",
          "ename": "SyntaxError",
          "evalue": "ignored",
          "traceback": [
            "\u001b[0;36m  File \u001b[0;32m\"<ipython-input-33-5044af9c93d2>\"\u001b[0;36m, line \u001b[0;32m2\u001b[0m\n\u001b[0;31m    def evaluate(/content/flatland_train.data, model):\u001b[0m\n\u001b[0m                 ^\u001b[0m\n\u001b[0;31mSyntaxError\u001b[0m\u001b[0;31m:\u001b[0m invalid syntax\n"
          ]
        }
      ]
    },
    {
      "cell_type": "code",
      "metadata": {
        "id": "v5xdLw5z0p8m"
      },
      "source": [
        ""
      ],
      "execution_count": null,
      "outputs": []
    },
    {
      "cell_type": "code",
      "metadata": {
        "id": "9HKgNQVh0qD1"
      },
      "source": [
        ""
      ],
      "execution_count": null,
      "outputs": []
    }
  ]
}